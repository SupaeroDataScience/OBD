{
 "cells": [
  {
   "cell_type": "markdown",
   "metadata": {},
   "source": [
    "# Deploying a Dask Hub"
   ]
  },
  {
   "cell_type": "markdown",
   "metadata": {},
   "source": [
    "All this material is taken from the following docs:\n",
    "- https://docs.dask.org/en/latest/setup/kubernetes-helm.html\n",
    "- https://zero-to-jupyterhub.readthedocs.io/en/latest/kubernetes/setup-kubernetes.html\n",
    "- https://zero-to-jupyterhub.readthedocs.io/en/latest/kubernetes/setup-helm.html"
   ]
  },
  {
   "cell_type": "markdown",
   "metadata": {},
   "source": [
    "## Creating a Kubernetes Cluster"
   ]
  },
  {
   "cell_type": "markdown",
   "metadata": {},
   "source": [
    "First, you need to enable the Kubernetes API if not already done:\n",
    "1. Go to console.cloud.google.com\n",
    "2. Select the Kubernetes Engine in the menu: https://console.cloud.google.com/marketplace/product/google/container.googleapis.com\n",
    "3. Enable the API."
   ]
  },
  {
   "cell_type": "markdown",
   "metadata": {},
   "source": [
    "Then you'll need a terminal with __gcloud__ and __kubectl__. The simplest is just to use the Google Cloud Shell from console.cloud.google.com. If you prefer, you can follow the links below to find how to install everything on your computer."
   ]
  },
  {
   "cell_type": "markdown",
   "metadata": {},
   "source": [
    "Ask Google Cloud to create a managed Kubernetes cluster and a default node pool to get nodes from:\n",
    "\n",
    "```\n",
    "gcloud container clusters create \\\n",
    "  --machine-type n1-standard-4 \\\n",
    "  --enable-autoscaling \\\n",
    "  --min-nodes 1 \\\n",
    "  --max-nodes 10 \\\n",
    "  --num-nodes 1 \\\n",
    "  --zone europe-west1-b \\\n",
    "  --cluster-version latest \\\n",
    "  dask-hub-k8s\n",
    "```"
   ]
  },
  {
   "cell_type": "markdown",
   "metadata": {},
   "source": [
    "You can test if the cluster is running:\n",
    "```\n",
    "kubectl get node\n",
    "```"
   ]
  },
  {
   "cell_type": "markdown",
   "metadata": {},
   "source": [
    "Then get permissions to perform all administrative actions needed. Don't forget to replace your email below.\n",
    "\n",
    "```\n",
    "kubectl create clusterrolebinding cluster-admin-binding \\\n",
    "  --clusterrole=cluster-admin \\\n",
    "  --user=<GOOGLE-EMAIL-ACCOUNT>\n",
    "```"
   ]
  },
  {
   "cell_type": "markdown",
   "metadata": {},
   "source": [
    "## Setting up Helm"
   ]
  },
  {
   "cell_type": "markdown",
   "metadata": {},
   "source": [
    "From your Google Cloud Shell or terminal:\n",
    "\n",
    "```\n",
    "curl https://raw.githubusercontent.com/helm/helm/master/scripts/get-helm-3 | bash\n",
    "helm list\n",
    "```\n",
    "\n",
    "should return:\n",
    "```\n",
    "NAME    NAMESPACE       REVISION        UPDATED STATUS  CHART   APP VERSION\n",
    "```\n"
   ]
  },
  {
   "cell_type": "markdown",
   "metadata": {},
   "source": [
    "## Helm install a Dask Hub for multiple users"
   ]
  },
  {
   "cell_type": "markdown",
   "metadata": {},
   "source": [
    "We install a full Dask up for multiple users because:\n",
    "- It enables automatic scaling of computing resources,\n",
    "- If some of you is unable to deploy its Dask cluster, she or he will be able to use the cluster of someone else."
   ]
  },
  {
   "cell_type": "markdown",
   "metadata": {},
   "source": [
    "Verify that you’ve set up a Kubernetes cluster and added Dask’s helm charts:\n",
    "\n",
    "```\n",
    "helm repo add dask https://helm.dask.org/\n",
    "helm repo update\n",
    "```"
   ]
  },
  {
   "cell_type": "markdown",
   "metadata": {},
   "source": [
    "Generate tokens to configure Jupyterhub and Dask-gateway:\n",
    "\n",
    "```\n",
    "openssl rand -hex 32  # generate token-1\n",
    "openssl rand -hex 32  # generate token-2\n",
    "```"
   ]
  },
  {
   "cell_type": "markdown",
   "metadata": {},
   "source": [
    "Create the file below (for example using vi or any editor) and substitute those two values for `<token-1>` and `<token-2>`.\n",
    "    \n",
    "```\n",
    "# file: secrets.yaml\n",
    "jupyterhub:\n",
    "  proxy:\n",
    "    secretToken: \"<token-1>\"\n",
    "  hub:\n",
    "    services:\n",
    "      dask-gateway:\n",
    "        apiToken: \"<token-2>\"\n",
    "  scheduling:\n",
    "    podPriority:\n",
    "      enabled: true\n",
    "    userPlaceholder:\n",
    "      # Specify three dummy user pods will be used as placeholders\n",
    "      replicas: 3\n",
    "    userScheduler:\n",
    "      enabled: true\n",
    "\n",
    "dask-gateway:\n",
    "  gateway:\n",
    "    auth:\n",
    "      jupyterhub:\n",
    "        apiToken: \"<token-2>\"\n",
    "    extraConfig:\n",
    "      optionHandler: |\n",
    "        from dask_gateway_server.options import Options, Integer, Float\n",
    "\n",
    "        def options_handler(options):\n",
    "          return {\n",
    "            \"worker_cores\": options.worker_cores,\n",
    "            \"worker_memory\": int(options.worker_memory * 2 ** 30),\n",
    "          }\n",
    "\n",
    "        c.Backend.cluster_options = Options(\n",
    "          Integer(\"worker_cores\", default=1, min=1, max=4, label=\"Worker Cores\"),\n",
    "          Float(\"worker_memory\", default=1, min=1, max=8, label=\"Worker Memory (GiB)\"),\n",
    "          handler=options_handler,\n",
    "        )\n",
    "```"
   ]
  },
  {
   "cell_type": "markdown",
   "metadata": {},
   "source": [
    "Now we just install Dask Hub:\n",
    "```\n",
    "helm upgrade --wait --install --render-subchart-notes \\\n",
    "    --namespace daskhub \\\n",
    "    --create-namespace \\\n",
    "    dhub dask/daskhub \\\n",
    "    --values=secrets.yaml\n",
    "```"
   ]
  },
  {
   "cell_type": "markdown",
   "metadata": {},
   "source": [
    "## Check install and go to Jupyter!"
   ]
  },
  {
   "cell_type": "markdown",
   "metadata": {},
   "source": [
    "To get the public IP of your hub deployment:\n",
    "```\n",
    "kubectl --namespace=daskhub get service proxy-public\n",
    "```"
   ]
  },
  {
   "cell_type": "markdown",
   "metadata": {},
   "source": [
    "Get the external IP, and open it in your browser. You should be able to login with any username/password"
   ]
  },
  {
   "cell_type": "code",
   "execution_count": null,
   "metadata": {},
   "outputs": [],
   "source": []
  }
 ],
 "metadata": {
  "kernelspec": {
   "display_name": "Python 3",
   "language": "python",
   "name": "python3"
  },
  "language_info": {
   "codemirror_mode": {
    "name": "ipython",
    "version": 3
   },
   "file_extension": ".py",
   "mimetype": "text/x-python",
   "name": "python",
   "nbconvert_exporter": "python",
   "pygments_lexer": "ipython3",
   "version": "3.8.6"
  }
 },
 "nbformat": 4,
 "nbformat_minor": 4
}
